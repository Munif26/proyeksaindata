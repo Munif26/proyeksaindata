{
  "nbformat": 4,
  "nbformat_minor": 0,
  "metadata": {
    "colab": {
      "provenance": []
    },
    "kernelspec": {
      "name": "python3",
      "display_name": "Python 3"
    },
    "language_info": {
      "name": "python"
    }
  },
  "cells": [
    {
      "cell_type": "markdown",
      "source": [
        "# **Preprocessing**\n",
        "\n",
        "Tahap ini bertujuan untuk menyiapkan data sebelum dianalisis. Data diambil dari dua sumber berbeda (MySQL dan PostgreSQL), lalu digabungkan menjadi satu dataframe. Hasil akhirnya adalah dataset Iris dengan lima kolom utama: sepal_length, sepal_width, petal_length, petal_width, dan species."
      ],
      "metadata": {
        "id": "c5CZ414qkyKi"
      }
    },
    {
      "cell_type": "markdown",
      "source": [
        "## **Outliers Cleaning**\n",
        "\n",
        "Tahap ini fokus pada pembersihan data dengan mendeteksi nilai pencilan (outlier). Outlier dapat mengganggu analisis karena berbeda jauh dari distribusi data utama. Pembersihan dilakukan dengan metode Anomaly Detection agar data lebih bersih dan representatif."
      ],
      "metadata": {
        "id": "X1_8XF61lTar"
      }
    },
    {
      "cell_type": "code",
      "source": [
        "import pandas as pd\n",
        "from module.dataTransformer import combineData\n",
        "from module.fetcher import fetchDataMysql, fetchDataPg\n",
        "\n",
        "data_pg = fetchDataPg(\"SELECT petal_length, petal_width, species FROM iris_table\")\n",
        "data_my = fetchDataMysql(\"SELECT sepal_length, sepal_width FROM iris_table\")\n",
        "\n",
        "iris_df = combineData(data1=data_my, data2=data_pg)\n",
        "iris_df"
      ],
      "metadata": {
        "id": "2h31ps8fkjvO"
      },
      "execution_count": null,
      "outputs": []
    },
    {
      "cell_type": "markdown",
      "source": [
        "|     | sepal_length | sepal_width | petal_length | petal_width | species        |\n",
        "|-----|--------------|-------------|--------------|-------------|----------------|\n",
        "| 0   | 5.10         | 3.50        | 1.40         | 0.20        | Iris-setosa    |\n",
        "| 1   | 4.90         | 3.00        | 1.40         | 0.20        | Iris-setosa    |\n",
        "| 2   | 4.70         | 3.20        | 1.30         | 0.20        | Iris-setosa    |\n",
        "| 3   | 4.60         | 3.10        | 1.50         | 0.20        | Iris-setosa    |\n",
        "| 4   | 5.00         | 3.60        | 1.40         | 0.20        | Iris-setosa    |\n",
        "| ... | ...          | ...         | ...          | ...         | ...            |\n",
        "| 145 | 6.70         | 3.00        | 5.20         | 2.30        | Iris-virginica |\n",
        "| 146 | 6.30         | 2.50        | 5.00         | 1.90        | Iris-virginica |\n",
        "| 147 | 6.50         | 3.00        | 5.20         | 2.00        | Iris-virginica |\n",
        "| 148 | 6.20         | 3.40        | 5.40         | 2.30        | Iris-virginica |\n",
        "| 149 | 5.90         | 3.00        | 5.10         | 1.80        | Iris-virginica |\n",
        "\n",
        "150 rows × 5 columns\n"
      ],
      "metadata": {
        "id": "V8djq5bMpMlJ"
      }
    },
    {
      "cell_type": "code",
      "execution_count": null,
      "metadata": {
        "id": "cxg-2o23jz8d"
      },
      "outputs": [],
      "source": [
        "# Menyingkirkan kolom species (class)\n",
        "numeric_iris_df = iris_df[[\"sepal_length\", \"sepal_width\", \"petal_length\", \"petal_width\"]].astype(float)\n",
        "numeric_iris_df"
      ]
    },
    {
      "cell_type": "markdown",
      "source": [
        "|     | sepal_length | sepal_width | petal_length | petal_width |\n",
        "|-----|--------------|-------------|--------------|-------------|\n",
        "| 0   | 5.1          | 3.5         | 1.4          | 0.2         |\n",
        "| 1   | 4.9          | 3.0         | 1.4          | 0.2         |\n",
        "| 2   | 4.7          | 3.2         | 1.3          | 0.2         |\n",
        "| 3   | 4.6          | 3.1         | 1.5          | 0.2         |\n",
        "| 4   | 5.0          | 3.6         | 1.4          | 0.2         |\n",
        "| ... | ...          | ...         | ...          | ...         |\n",
        "| 145 | 6.7          | 3.0         | 5.2          | 2.3         |\n",
        "| 146 | 6.3          | 2.5         | 5.0          | 1.9         |\n",
        "| 147 | 6.5          | 3.0         | 5.2          | 2.0         |\n",
        "| 148 | 6.2          | 3.4         | 5.4          | 2.3         |\n",
        "| 149 | 5.9          | 3.0         | 5.1          | 1.8         |\n",
        "\n",
        "150 rows × 4 columns\n"
      ],
      "metadata": {
        "id": "rBsklcGLqBcO"
      }
    },
    {
      "cell_type": "markdown",
      "source": [
        "## **Model ABOD**\n",
        "\n",
        "Metode Angle-Based Outlier Detection (ABOD) digunakan untuk mendeteksi outlier dengan mengukur variasi sudut antar titik data. Parameter fraction=0.05 artinya sekitar 5% data dianggap sebagai outlier. Model ini cocok untuk dataset berdimensi rendah seperti Iris."
      ],
      "metadata": {
        "id": "4klManWMqtx5"
      }
    },
    {
      "cell_type": "code",
      "source": [
        "from pycaret.anomaly import *\n",
        "\n",
        "s = setup(data=numeric_iris_df)\n",
        "\n",
        "abod_model = create_model(\"abod\", fraction=0.05)\n",
        "\n",
        "df_abod = assign_model(abod_model)\n",
        "\n",
        "df_abod"
      ],
      "metadata": {
        "id": "5rznkitYq16f"
      },
      "execution_count": null,
      "outputs": []
    },
    {
      "cell_type": "markdown",
      "source": [
        "**Data IRIS clean**\n",
        "\n",
        "Data Tanpa Outliers\n",
        "\n",
        "Setelah menjalankan ABOD, data yang terdeteksi sebagai inlier (Anomaly = 0) dipertahankan. Hasilnya adalah dataset Iris tanpa outlier, sehingga lebih stabil untuk analisis selanjutnya."
      ],
      "metadata": {
        "id": "_6WpDw3Qq7Hy"
      }
    },
    {
      "cell_type": "code",
      "source": [
        "clean_iris_abod = df_abod[df_abod[\"Anomaly\"] == 0].merge(iris_df[\"species\"], left_index=True, right_index=True)[[\"sepal_length\", \"sepal_width\", \"petal_length\", \"petal_width\", \"species\"]]\n",
        "clean_iris_abod"
      ],
      "metadata": {
        "id": "y2y7NREqrAUa"
      },
      "execution_count": null,
      "outputs": []
    },
    {
      "cell_type": "markdown",
      "source": [
        "|     | sepal_length | sepal_width | petal_length | petal_width | species        |\n",
        "|-----|--------------|-------------|--------------|-------------|----------------|\n",
        "| 0   | 5.1          | 3.5         | 1.4          | 0.2         | Iris-setosa    |\n",
        "| 1   | 4.9          | 3.0         | 1.4          | 0.2         | Iris-setosa    |\n",
        "| 2   | 4.7          | 3.2         | 1.3          | 0.2         | Iris-setosa    |\n",
        "| 3   | 4.6          | 3.1         | 1.5          | 0.2         | Iris-setosa    |\n",
        "| 4   | 5.0          | 3.6         | 1.4          | 0.2         | Iris-setosa    |\n",
        "| ... | ...          | ...         | ...          | ...         | ...            |\n",
        "| 145 | 6.7          | 3.0         | 5.2          | 2.3         | Iris-virginica |\n",
        "| 146 | 6.3          | 2.5         | 5.0          | 1.9         | Iris-virginica |\n",
        "| 147 | 6.5          | 3.0         | 5.2          | 2.0         | Iris-virginica |\n",
        "| 148 | 6.2          | 3.4         | 5.4          | 2.3         | Iris-virginica |\n",
        "| 149 | 5.9          | 3.0         | 5.1          | 1.8         | Iris-virginica |\n",
        "\n",
        "150 rows × 5 columns\n"
      ],
      "metadata": {
        "id": "DNgGWYUdsDUG"
      }
    },
    {
      "cell_type": "markdown",
      "source": [
        "## **Metode KNN**\n",
        "\n",
        "Metode K-Nearest Neighbors (KNN) untuk anomaly detection digunakan untuk mengidentifikasi data yang berbeda jauh dari tetangga terdekatnya. Sama seperti ABOD, digunakan fraction=0.05 untuk menganggap 5% data sebagai outlier."
      ],
      "metadata": {
        "id": "Z27piy5dsQVI"
      }
    },
    {
      "cell_type": "code",
      "source": [
        "from pycaret.anomaly import *\n",
        "\n",
        "s = setup(data=numeric_iris_df)\n",
        "\n",
        "iforest_model = create_model(\"knn\", fraction=0.05)\n",
        "\n",
        "df_knn = assign_model(iforest_model)\n",
        "\n",
        "df_knn"
      ],
      "metadata": {
        "id": "R8irrhjtsgwU"
      },
      "execution_count": null,
      "outputs": []
    },
    {
      "cell_type": "markdown",
      "source": [
        "<table style=\"border-collapse: collapse; width: 60%; text-align: left; font-family: Arial;\">\n",
        "  <tr style=\"background-color: #d9e1e8;\">\n",
        "    <th style=\"padding: 8px;\">Description</th>\n",
        "    <th style=\"padding: 8px;\">Value</th>\n",
        "  </tr>\n",
        "  <tr style=\"background-color: #ffffff;\">\n",
        "    <td>Session id</td>\n",
        "    <td>5315</td>\n",
        "  </tr>\n",
        "  <tr style=\"background-color: #d9e1e8;\">\n",
        "    <td>Original data shape</td>\n",
        "    <td>(150, 4)</td>\n",
        "  </tr>\n",
        "  <tr style=\"background-color: #ffffff;\">\n",
        "    <td>Transformed data shape</td>\n",
        "    <td>(150, 4)</td>\n",
        "  </tr>\n",
        "  <tr style=\"background-color: #d9e1e8;\">\n",
        "    <td>Numeric features</td>\n",
        "    <td>4</td>\n",
        "  </tr>\n",
        "  <tr style=\"background-color: #90ee90;\"> <!-- hijau -->\n",
        "    <td>Preprocess</td>\n",
        "    <td>True</td>\n",
        "  </tr>\n",
        "  <tr style=\"background-color: #ffffff;\">\n",
        "    <td>Imputation type</td>\n",
        "    <td>simple</td>\n",
        "  </tr>\n",
        "  <tr style=\"background-color: #d9e1e8;\">\n",
        "    <td>Numeric imputation</td>\n",
        "    <td>mean</td>\n",
        "  </tr>\n",
        "  <tr style=\"background-color: #ffffff;\">\n",
        "    <td>Categorical imputation</td>\n",
        "    <td>mode</td>\n",
        "  </tr>\n",
        "  <tr style=\"background-color: #d9e1e8;\">\n",
        "    <td>CPU Jobs</td>\n",
        "    <td>-1</td>\n",
        "  </tr>\n",
        "  <tr style=\"background-color: #ffffff;\">\n",
        "    <td>Use GPU</td>\n",
        "    <td>False</td>\n",
        "  </tr>\n",
        "  <tr style=\"background-color: #d9e1e8;\">\n",
        "    <td>Log Experiment</td>\n",
        "    <td>False</td>\n",
        "  </tr>\n",
        "  <tr style=\"background-color: #ffffff;\">\n",
        "    <td>Experiment Name</td>\n",
        "    <td>anomaly-default-name</td>\n",
        "  </tr>\n",
        "  <tr style=\"background-color: #d9e1e8;\">\n",
        "    <td>USI</td>\n",
        "    <td>7446</td>\n",
        "  </tr>\n",
        "</table>\n",
        "\n",
        "\n",
        "| sepal_length | sepal_width | petal_length | petal_width | Anomaly | Anomaly_Score |\n",
        "|--------------|-------------|--------------|-------------|---------|---------------|\n",
        "| 5.1          | 3.5         | 1.4          | 0.2         | 0       | 0.141421      |\n",
        "| 4.9          | 3.0         | 1.4          | 0.2         | 0       | 0.173205      |\n",
        "| 4.7          | 3.2         | 1.3          | 0.2         | 0       | 0.264575      |\n",
        "| 4.6          | 3.1         | 1.5          | 0.2         | 0       | 0.264575      |\n",
        "| 5.0          | 3.6         | 1.4          | 0.2         | 0       | 0.244949      |\n",
        "| ...          | ...         | ...          | ...         | ...     | ...           |\n",
        "| 6.7          | 3.0         | 5.2          | 2.3         | 0       | 0.374166      |\n",
        "| 6.3          | 2.5         | 5.0          | 1.9         | 0       | 0.479583      |\n",
        "| 6.5          | 3.0         | 5.2          | 2.0         | 0       | 0.387298      |\n",
        "| 6.2          | 3.4         | 5.4          | 2.3         | 0       | 0.624500      |\n",
        "| 5.9          | 3.0         | 5.1          | 1.8         | 0       | 0.360555      |\n",
        "\n",
        "150 rows × 6 columns\n",
        "\n"
      ],
      "metadata": {
        "id": "mPZQIIYstFdj"
      }
    },
    {
      "cell_type": "markdown",
      "source": [
        "**Data IRIS Clean**\n",
        "\n",
        "Data tanpa outliers\n",
        "\n",
        "Data bersih dari metode KNN diperoleh dengan menyaring baris yang bukan outlier (Anomaly = 0). Hasil akhirnya adalah dataset Iris yang lebih konsisten, bebas dari nilai pencilan, dan siap dipakai untuk analisis atau model klasifikasi."
      ],
      "metadata": {
        "id": "lV4JCGSdtpcN"
      }
    },
    {
      "cell_type": "code",
      "source": [
        "clean_iris_knn = df_knn[df_knn[\"Anomaly\"] == 0].merge(iris_df[\"species\"], left_index=True, right_index=True)[[\"sepal_length\", \"sepal_width\", \"petal_length\", \"petal_width\", \"species\"]]\n",
        "clean_iris_knn"
      ],
      "metadata": {
        "id": "kHIVi7zXtaeC"
      },
      "execution_count": 1,
      "outputs": []
    },
    {
      "cell_type": "markdown",
      "source": [
        "| sepal_length | sepal_width | petal_length | petal_width | species        |\n",
        "|--------------|-------------|--------------|-------------|----------------|\n",
        "| 5.1          | 3.5         | 1.4          | 0.2         | Iris-setosa    |\n",
        "| 4.9          | 3.0         | 1.4          | 0.2         | Iris-setosa    |\n",
        "| 4.7          | 3.2         | 1.3          | 0.2         | Iris-setosa    |\n",
        "| 4.6          | 3.1         | 1.5          | 0.2         | Iris-setosa    |\n",
        "| 5.0          | 3.6         | 1.4          | 0.2         | Iris-setosa    |\n",
        "| ...          | ...         | ...          | ...         | ...            |\n",
        "| 6.7          | 3.0         | 5.2          | 2.3         | Iris-virginica |\n",
        "| 6.3          | 2.5         | 5.0          | 1.9         | Iris-virginica |\n",
        "| 6.5          | 3.0         | 5.2          | 2.0         | Iris-virginica |\n",
        "| 6.2          | 3.4         | 5.4          | 2.3         | Iris-virginica |\n",
        "| 5.9          | 3.0         | 5.1          | 1.8         | Iris-virginica |\n",
        "\n",
        "142 rows × 5 columns\n"
      ],
      "metadata": {
        "id": "5ndwDnc7t_OR"
      }
    }
  ]
}